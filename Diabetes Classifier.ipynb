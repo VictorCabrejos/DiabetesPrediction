{
 "cells": [
  {
   "cell_type": "markdown",
   "metadata": {},
   "source": [
    "## Instructions\n",
    "\n",
    "Training two different Bayesian classifiers to predict whether or not a patient has diabetes, based on certain diagnostic measurements (several medical predictor variables):\n",
    "\n",
    ". Target Label : **Outcome**\n",
    "\n",
    ". Predictor Variables (features):\n",
    "\n",
    "    . Number of Pregnancies the patient has had\n",
    "    . Glucose\n",
    "    . BloodPressure\n",
    "    . SkinThickness\n",
    "    . Insuline Level\n",
    "    . BMI  (Body Mass Index)\n",
    "    . DiabetesPedigreeFunction\n",
    "    . Age\n"
   ]
  },
  {
   "cell_type": "code",
   "execution_count": 306,
   "metadata": {},
   "outputs": [],
   "source": [
    "#imporing libraries\n",
    "import numpy as np\n",
    "import matplotlib.pyplot as plt\n",
    "import pandas as pd\n",
    "import time\n",
    "\n",
    "import warnings\n",
    "warnings.filterwarnings('ignore')\n"
   ]
  },
  {
   "cell_type": "markdown",
   "metadata": {},
   "source": [
    "<img src=\"img/naivebayes3.png\">"
   ]
  },
  {
   "cell_type": "markdown",
   "metadata": {},
   "source": [
    "<img src=\"img/naivebayes3.png\">"
   ]
  },
  {
   "cell_type": "markdown",
   "metadata": {},
   "source": [
    "\n",
    "#### Posterior Probability\n",
    "\n",
    "**P(ci|x)** = Probability of class **Ci** given the input features **x**\n",
    "\n",
    "#### Likelihood of C given the Observed Outcomes\n",
    "\n",
    "**P(x|c)**  = Probability of set of featurex **x** can contribute to a particular class **c**\n",
    "\n",
    "#### Prior Probability\n",
    "\n",
    "**P(c)**    = What part of the input examples belong to class **c**\n",
    "\n",
    "#### What makes Naive Bayes \"Naive\"? =  BIG ASUMPTION\n",
    "\n",
    "The individual features (columns) are **all these colums are independent** \n",
    "\n"
   ]
  },
  {
   "cell_type": "markdown",
   "metadata": {},
   "source": [
    "<img src=\"img/naivebayes2.png\">"
   ]
  },
  {
   "cell_type": "markdown",
   "metadata": {},
   "source": [
    "### Building the Gaussian Naive Bayes Model from scratch"
   ]
  },
  {
   "cell_type": "code",
   "execution_count": 328,
   "metadata": {},
   "outputs": [],
   "source": [
    "# Naive Bayes disadvantage:\n",
    "# The assumption of independent features. In practice, it is almost impossible that model will get a set of predictors which are entirely independent\n",
    "\n",
    "class Naive_Bayes_Model():\n",
    "    def __init__(self):\n",
    "        # Dictionary that will store separated classes\n",
    "        self.class_data_dic={}\n",
    "    \n",
    "    def fit(self, X_train, y_train):\n",
    "        # TRAINING THE MODEL\n",
    "        \n",
    "        def generate(class_data_dic, X_train, y_train):\n",
    "            \"\"\"\n",
    "            Takes the X_train and y_train as parameters and\n",
    "            divides the dataset based on class '0' or '1'\n",
    "            all training examples that belong to class '0' are\n",
    "            separated, same for examples that belong to class '1'\n",
    "            \"\"\"\n",
    "            first_one=True\n",
    "            first_zero=True\n",
    "            \n",
    "            for i in range(y_train.shape[0]):\n",
    "                X_temp=X_train[i,:].reshape(X_train[i,:].shape[0],1)\n",
    "                if y_train[i]==1:\n",
    "                    \n",
    "                    # If it's the first \"1\"\n",
    "                    if first_one==True:\n",
    "                        # class_data_dic[1] fetches \n",
    "                        # all the input training examples \n",
    "                        # which have labels 1\n",
    "                        class_data_dic[1]=X_temp\n",
    "                        first_one=False\n",
    "                    \n",
    "                    # If it's not the first one, just append it\n",
    "                    else:\n",
    "                        class_data_dic[1]=np.append(class_data_dic[1],X_temp,axis=1)\n",
    "                        \n",
    "                elif y_train[i]==0:\n",
    "                    # If it's the first \"0\"\n",
    "                    if first_zero==True:\n",
    "                        # class_data_dic[0] fetches \n",
    "                        # all the input training examples \n",
    "                        # which have labels 0\n",
    "                        class_data_dic[0]=X_temp\n",
    "                        first_zero=False\n",
    "                    \n",
    "                    # If it's not the first \"0\", just append i\n",
    "                    else:\n",
    "                        class_data_dic[0]=np.append(class_data_dic[0],X_temp,axis=1)\n",
    "            \n",
    "            # return the dictionary of classes\n",
    "            return class_data_dic\n",
    "    \n",
    "        self.X_train = X_train\n",
    "        self.y_train = y_train\n",
    "        \n",
    "        # Initializing dictionary for keys \"0\" and \"1\" to empty arrays\n",
    "        self.class_data_dic[0]=np.array([[]])\n",
    "        self.class_data_dic[1]=np.array([[]])\n",
    "        \n",
    "        # Using the \"generate()\" function to create the class dictionary\n",
    "        self.class_data_dic=generate(self.class_data_dic,self.X_train,self.y_train)\n",
    "        \n",
    "       \n",
    "        self.class_data_dic[0]=self.class_data_dic[0].T\n",
    "        self.class_data_dic[1]=self.class_data_dic[1].T\n",
    "        \n",
    "        # computing the mean of each individual \n",
    "        # class vector from dictionary\n",
    "        self.mean_0=np.mean(self.class_data_dic[0],axis=0)\n",
    "        self.mean_1=np.mean(self.class_data_dic[1],axis=0)\n",
    "        \n",
    "        # computing the standard deviation of each individual \n",
    "        # class vector from dictionary\n",
    "        self.std_0=np.std(self.class_data_dic[0],axis=0)\n",
    "        self.std_1=np.std(self.class_data_dic[1],axis=0)\n",
    "        \n",
    "        \n",
    "    def predict(self, X_test):\n",
    "        # MAKING A PREDICTION\n",
    "        \n",
    "        def posterior(X, X_train_class, mean, std):\n",
    "            \"\"\"\n",
    "            This posterior function calculates the \n",
    "            joint probability and returns the product\n",
    "            \"\"\"\n",
    "            def likelihood(x, mean, sigma):\n",
    "                \"\"\"\n",
    "                likelihood function returns the \n",
    "                Gaussian distribution vector for particular X\n",
    "                \"\"\"\n",
    "                \n",
    "                # Gaussian Distribution\n",
    "                return (1/(np.sqrt(2*np.pi)*sigma)) * np.exp(-(x-mean)**2/(2*sigma**2))\n",
    "            \n",
    "            # using np.prod() which returns the product of \n",
    "            # array elements over a given axis\n",
    "            product = np.prod(likelihood(X,mean,std),axis=1)\n",
    "            \n",
    "            product = product*(X_train_class.shape[0]/self.X_train.shape[0])\n",
    "            \n",
    "            return product\n",
    "        \n",
    "        # Calculating the probability passing in the Testing Features\n",
    "        # the training classes, the mean and standard deviation\n",
    "        # For each testing example Xtest, we calculate the \n",
    "        # two joint probabilities i.e P(c=0/Xtest) and P(c=1/Xtest).\n",
    "        p_1=posterior(X_test,self.class_data_dic[1],self.mean_1,self.std_1)\n",
    "        p_0=posterior(X_test,self.class_data_dic[0],self.mean_0,self.std_0)\n",
    "        \n",
    "        # X_test assigned to the maximum of both joing probabilities\n",
    "        return 1*(p_1>p_0)"
   ]
  },
  {
   "cell_type": "markdown",
   "metadata": {},
   "source": [
    "### 1) Download the data\n",
    "Download the diabetes dataset. "
   ]
  },
  {
   "cell_type": "code",
   "execution_count": 329,
   "metadata": {},
   "outputs": [
    {
     "name": "stdout",
     "output_type": "stream",
     "text": [
      "   Pregnancies  Glucose  BloodPressure  SkinThickness  Insulin   BMI  \\\n",
      "0            6      148             72             35        0  33.6   \n",
      "1            1       85             66             29        0  26.6   \n",
      "2            8      183             64              0        0  23.3   \n",
      "3            1       89             66             23       94  28.1   \n",
      "4            0      137             40             35      168  43.1   \n",
      "\n",
      "   DiabetesPedigreeFunction  Age  Outcome  \n",
      "0                     0.627   50        1  \n",
      "1                     0.351   31        0  \n",
      "2                     0.672   32        1  \n",
      "3                     0.167   21        0  \n",
      "4                     2.288   33        1  \n"
     ]
    },
    {
     "data": {
      "text/html": [
       "<div>\n",
       "<style scoped>\n",
       "    .dataframe tbody tr th:only-of-type {\n",
       "        vertical-align: middle;\n",
       "    }\n",
       "\n",
       "    .dataframe tbody tr th {\n",
       "        vertical-align: top;\n",
       "    }\n",
       "\n",
       "    .dataframe thead th {\n",
       "        text-align: right;\n",
       "    }\n",
       "</style>\n",
       "<table border=\"1\" class=\"dataframe\">\n",
       "  <thead>\n",
       "    <tr style=\"text-align: right;\">\n",
       "      <th></th>\n",
       "      <th>Pregnancies</th>\n",
       "      <th>Glucose</th>\n",
       "      <th>BloodPressure</th>\n",
       "      <th>SkinThickness</th>\n",
       "      <th>Insulin</th>\n",
       "      <th>BMI</th>\n",
       "      <th>DiabetesPedigreeFunction</th>\n",
       "      <th>Age</th>\n",
       "      <th>Outcome</th>\n",
       "    </tr>\n",
       "  </thead>\n",
       "  <tbody>\n",
       "    <tr>\n",
       "      <th>count</th>\n",
       "      <td>768.000000</td>\n",
       "      <td>768.000000</td>\n",
       "      <td>768.000000</td>\n",
       "      <td>768.000000</td>\n",
       "      <td>768.000000</td>\n",
       "      <td>768.000000</td>\n",
       "      <td>768.000000</td>\n",
       "      <td>768.000000</td>\n",
       "      <td>768.000000</td>\n",
       "    </tr>\n",
       "    <tr>\n",
       "      <th>mean</th>\n",
       "      <td>3.845052</td>\n",
       "      <td>120.894531</td>\n",
       "      <td>69.105469</td>\n",
       "      <td>20.536458</td>\n",
       "      <td>79.799479</td>\n",
       "      <td>31.992578</td>\n",
       "      <td>0.471876</td>\n",
       "      <td>33.240885</td>\n",
       "      <td>0.348958</td>\n",
       "    </tr>\n",
       "    <tr>\n",
       "      <th>std</th>\n",
       "      <td>3.369578</td>\n",
       "      <td>31.972618</td>\n",
       "      <td>19.355807</td>\n",
       "      <td>15.952218</td>\n",
       "      <td>115.244002</td>\n",
       "      <td>7.884160</td>\n",
       "      <td>0.331329</td>\n",
       "      <td>11.760232</td>\n",
       "      <td>0.476951</td>\n",
       "    </tr>\n",
       "    <tr>\n",
       "      <th>min</th>\n",
       "      <td>0.000000</td>\n",
       "      <td>0.000000</td>\n",
       "      <td>0.000000</td>\n",
       "      <td>0.000000</td>\n",
       "      <td>0.000000</td>\n",
       "      <td>0.000000</td>\n",
       "      <td>0.078000</td>\n",
       "      <td>21.000000</td>\n",
       "      <td>0.000000</td>\n",
       "    </tr>\n",
       "    <tr>\n",
       "      <th>25%</th>\n",
       "      <td>1.000000</td>\n",
       "      <td>99.000000</td>\n",
       "      <td>62.000000</td>\n",
       "      <td>0.000000</td>\n",
       "      <td>0.000000</td>\n",
       "      <td>27.300000</td>\n",
       "      <td>0.243750</td>\n",
       "      <td>24.000000</td>\n",
       "      <td>0.000000</td>\n",
       "    </tr>\n",
       "    <tr>\n",
       "      <th>50%</th>\n",
       "      <td>3.000000</td>\n",
       "      <td>117.000000</td>\n",
       "      <td>72.000000</td>\n",
       "      <td>23.000000</td>\n",
       "      <td>30.500000</td>\n",
       "      <td>32.000000</td>\n",
       "      <td>0.372500</td>\n",
       "      <td>29.000000</td>\n",
       "      <td>0.000000</td>\n",
       "    </tr>\n",
       "    <tr>\n",
       "      <th>75%</th>\n",
       "      <td>6.000000</td>\n",
       "      <td>140.250000</td>\n",
       "      <td>80.000000</td>\n",
       "      <td>32.000000</td>\n",
       "      <td>127.250000</td>\n",
       "      <td>36.600000</td>\n",
       "      <td>0.626250</td>\n",
       "      <td>41.000000</td>\n",
       "      <td>1.000000</td>\n",
       "    </tr>\n",
       "    <tr>\n",
       "      <th>max</th>\n",
       "      <td>17.000000</td>\n",
       "      <td>199.000000</td>\n",
       "      <td>122.000000</td>\n",
       "      <td>99.000000</td>\n",
       "      <td>846.000000</td>\n",
       "      <td>67.100000</td>\n",
       "      <td>2.420000</td>\n",
       "      <td>81.000000</td>\n",
       "      <td>1.000000</td>\n",
       "    </tr>\n",
       "  </tbody>\n",
       "</table>\n",
       "</div>"
      ],
      "text/plain": [
       "       Pregnancies     Glucose  BloodPressure  SkinThickness     Insulin  \\\n",
       "count   768.000000  768.000000     768.000000     768.000000  768.000000   \n",
       "mean      3.845052  120.894531      69.105469      20.536458   79.799479   \n",
       "std       3.369578   31.972618      19.355807      15.952218  115.244002   \n",
       "min       0.000000    0.000000       0.000000       0.000000    0.000000   \n",
       "25%       1.000000   99.000000      62.000000       0.000000    0.000000   \n",
       "50%       3.000000  117.000000      72.000000      23.000000   30.500000   \n",
       "75%       6.000000  140.250000      80.000000      32.000000  127.250000   \n",
       "max      17.000000  199.000000     122.000000      99.000000  846.000000   \n",
       "\n",
       "              BMI  DiabetesPedigreeFunction         Age     Outcome  \n",
       "count  768.000000                768.000000  768.000000  768.000000  \n",
       "mean    31.992578                  0.471876   33.240885    0.348958  \n",
       "std      7.884160                  0.331329   11.760232    0.476951  \n",
       "min      0.000000                  0.078000   21.000000    0.000000  \n",
       "25%     27.300000                  0.243750   24.000000    0.000000  \n",
       "50%     32.000000                  0.372500   29.000000    0.000000  \n",
       "75%     36.600000                  0.626250   41.000000    1.000000  \n",
       "max     67.100000                  2.420000   81.000000    1.000000  "
      ]
     },
     "execution_count": 329,
     "metadata": {},
     "output_type": "execute_result"
    }
   ],
   "source": [
    "#reading dataset\n",
    "df = pd.read_csv('diabetes.csv')\n",
    "print(df.head())\n",
    "df.describe()"
   ]
  },
  {
   "cell_type": "markdown",
   "metadata": {},
   "source": [
    "### 2) Splitting Data\n",
    " Split the 768 instances into training and testing sets (8:2)"
   ]
  },
  {
   "cell_type": "code",
   "execution_count": 344,
   "metadata": {},
   "outputs": [
    {
     "name": "stdout",
     "output_type": "stream",
     "text": [
      "Training set size : 614\n"
     ]
    }
   ],
   "source": [
    "#training and testing set size\n",
    "train_size=int(0.80 * df.shape[0])\n",
    "\n",
    "\n",
    "print(\"Training set size : \"+ str(train_size))\n"
   ]
  },
  {
   "cell_type": "code",
   "execution_count": 345,
   "metadata": {},
   "outputs": [],
   "source": [
    "#Getting features from dataset\n",
    "# Return a random sample of items\n",
    "# df = df.sample(frac=1)\n",
    "\n",
    "# Setting up our features first\n",
    "# Selecting the columns by their index\n",
    "X = df.iloc[:,[1,2,3,4,5,6,7]].values\n",
    "\n",
    "# Setting up our Targets \n",
    "# Selecting the column by its index\n",
    "y = df.iloc[:,8].values\n",
    "X = X.astype(float)"
   ]
  },
  {
   "cell_type": "code",
   "execution_count": 346,
   "metadata": {},
   "outputs": [
    {
     "data": {
      "text/html": [
       "<div>\n",
       "<style scoped>\n",
       "    .dataframe tbody tr th:only-of-type {\n",
       "        vertical-align: middle;\n",
       "    }\n",
       "\n",
       "    .dataframe tbody tr th {\n",
       "        vertical-align: top;\n",
       "    }\n",
       "\n",
       "    .dataframe thead th {\n",
       "        text-align: right;\n",
       "    }\n",
       "</style>\n",
       "<table border=\"1\" class=\"dataframe\">\n",
       "  <thead>\n",
       "    <tr style=\"text-align: right;\">\n",
       "      <th></th>\n",
       "      <th>Pregnancies</th>\n",
       "      <th>Glucose</th>\n",
       "      <th>BloodPressure</th>\n",
       "      <th>SkinThickness</th>\n",
       "      <th>Insulin</th>\n",
       "      <th>BMI</th>\n",
       "      <th>DiabetesPedigreeFunction</th>\n",
       "      <th>Age</th>\n",
       "      <th>Outcome</th>\n",
       "    </tr>\n",
       "  </thead>\n",
       "  <tbody>\n",
       "    <tr>\n",
       "      <th>0</th>\n",
       "      <td>6</td>\n",
       "      <td>148</td>\n",
       "      <td>72</td>\n",
       "      <td>35</td>\n",
       "      <td>0</td>\n",
       "      <td>33.6</td>\n",
       "      <td>0.627</td>\n",
       "      <td>50</td>\n",
       "      <td>1</td>\n",
       "    </tr>\n",
       "    <tr>\n",
       "      <th>1</th>\n",
       "      <td>1</td>\n",
       "      <td>85</td>\n",
       "      <td>66</td>\n",
       "      <td>29</td>\n",
       "      <td>0</td>\n",
       "      <td>26.6</td>\n",
       "      <td>0.351</td>\n",
       "      <td>31</td>\n",
       "      <td>0</td>\n",
       "    </tr>\n",
       "    <tr>\n",
       "      <th>2</th>\n",
       "      <td>8</td>\n",
       "      <td>183</td>\n",
       "      <td>64</td>\n",
       "      <td>0</td>\n",
       "      <td>0</td>\n",
       "      <td>23.3</td>\n",
       "      <td>0.672</td>\n",
       "      <td>32</td>\n",
       "      <td>1</td>\n",
       "    </tr>\n",
       "    <tr>\n",
       "      <th>3</th>\n",
       "      <td>1</td>\n",
       "      <td>89</td>\n",
       "      <td>66</td>\n",
       "      <td>23</td>\n",
       "      <td>94</td>\n",
       "      <td>28.1</td>\n",
       "      <td>0.167</td>\n",
       "      <td>21</td>\n",
       "      <td>0</td>\n",
       "    </tr>\n",
       "    <tr>\n",
       "      <th>4</th>\n",
       "      <td>0</td>\n",
       "      <td>137</td>\n",
       "      <td>40</td>\n",
       "      <td>35</td>\n",
       "      <td>168</td>\n",
       "      <td>43.1</td>\n",
       "      <td>2.288</td>\n",
       "      <td>33</td>\n",
       "      <td>1</td>\n",
       "    </tr>\n",
       "  </tbody>\n",
       "</table>\n",
       "</div>"
      ],
      "text/plain": [
       "   Pregnancies  Glucose  BloodPressure  SkinThickness  Insulin   BMI  \\\n",
       "0            6      148             72             35        0  33.6   \n",
       "1            1       85             66             29        0  26.6   \n",
       "2            8      183             64              0        0  23.3   \n",
       "3            1       89             66             23       94  28.1   \n",
       "4            0      137             40             35      168  43.1   \n",
       "\n",
       "   DiabetesPedigreeFunction  Age  Outcome  \n",
       "0                     0.627   50        1  \n",
       "1                     0.351   31        0  \n",
       "2                     0.672   32        1  \n",
       "3                     0.167   21        0  \n",
       "4                     2.288   33        1  "
      ]
     },
     "execution_count": 346,
     "metadata": {},
     "output_type": "execute_result"
    }
   ],
   "source": [
    "# Explore data\n",
    "df.head()"
   ]
  },
  {
   "cell_type": "code",
   "execution_count": 347,
   "metadata": {},
   "outputs": [],
   "source": [
    "#training dataset split\n",
    "X_train=X[0:train_size,:]\n",
    "y_train=y[0:train_size]\n",
    "\n",
    "#testing dataset split\n",
    "X_test=X[train_size:,:]\n",
    "y_test=y[train_size:]"
   ]
  },
  {
   "cell_type": "code",
   "execution_count": 348,
   "metadata": {},
   "outputs": [
    {
     "name": "stdout",
     "output_type": "stream",
     "text": [
      "(768, 7) (614, 7) (154, 7)\n"
     ]
    }
   ],
   "source": [
    "print(X.shape, X_train.shape, X_test.shape )"
   ]
  },
  {
   "cell_type": "code",
   "execution_count": 349,
   "metadata": {},
   "outputs": [
    {
     "data": {
      "text/plain": [
       "array([1, 0, 0, 0, 1, 1, 0, 0, 0, 0, 0, 0, 0, 0, 0, 0, 1, 0, 0, 0, 0, 1,\n",
       "       0, 0, 1, 0, 0, 0, 1, 0, 0, 0, 1, 1, 1, 0, 0, 0, 0, 0, 0, 1, 0, 0,\n",
       "       0, 1, 0, 1, 1, 1, 1, 0, 1, 1, 0, 0, 0, 0, 0, 0, 0, 1, 1, 0, 1, 0,\n",
       "       0, 1, 0, 1, 0, 0, 0, 0, 0, 1, 0, 1, 0, 1, 0, 1, 1, 0, 0, 0, 0, 1,\n",
       "       1, 0, 0, 0, 1, 0, 1, 1, 0, 0, 1, 0, 0, 1, 1, 0, 0, 1, 0, 0, 1, 0,\n",
       "       0, 0, 0, 0, 0, 0, 1, 1, 1, 0, 0, 0, 0, 0, 0, 1, 1, 0, 0, 1, 0, 0,\n",
       "       1, 0, 1, 1, 1, 0, 0, 1, 1, 1, 0, 1, 0, 1, 0, 1, 0, 0, 0, 0, 1, 0],\n",
       "      dtype=int64)"
      ]
     },
     "execution_count": 349,
     "metadata": {},
     "output_type": "execute_result"
    }
   ],
   "source": [
    "# What does 'y_test' look like?\n",
    "y_test"
   ]
  },
  {
   "cell_type": "markdown",
   "metadata": {},
   "source": [
    "### 3) Visualizing Conditional Density"
   ]
  },
  {
   "cell_type": "code",
   "execution_count": 350,
   "metadata": {},
   "outputs": [
    {
     "data": {
      "text/plain": [
       "<matplotlib.axes._subplots.AxesSubplot at 0x2437ed22908>"
      ]
     },
     "execution_count": 350,
     "metadata": {},
     "output_type": "execute_result"
    },
    {
     "data": {
      "image/png": "[encoded data removed]",
      "text/plain": [
       "<Figure size 432x288 with 1 Axes>"
      ]
     },
     "metadata": {
      "needs_background": "light"
     },
     "output_type": "display_data"
    }
   ],
   "source": [
    "df.groupby('Pregnancies').Outcome.mean().plot(kind='bar')"
   ]
  },
  {
   "cell_type": "code",
   "execution_count": 351,
   "metadata": {},
   "outputs": [
    {
     "data": {
      "text/plain": [
       "<matplotlib.axes._subplots.AxesSubplot at 0x2437ed324a8>"
      ]
     },
     "execution_count": 351,
     "metadata": {},
     "output_type": "execute_result"
    },
    {
     "data": {
      "image/png": "[encoded data removed]",
      "text/plain": [
       "<Figure size 432x288 with 1 Axes>"
      ]
     },
     "metadata": {
      "needs_background": "light"
     },
     "output_type": "display_data"
    }
   ],
   "source": [
    "# Visualizing (Kernel Density Estimate) of  Pregnancies\n",
    "df.Pregnancies.plot.kde( legend=False, title='Pregnancies')"
   ]
  },
  {
   "cell_type": "code",
   "execution_count": 352,
   "metadata": {},
   "outputs": [
    {
     "data": {
      "image/png": "[encoded data removed]",
      "text/plain": [
       "<Figure size 432x288 with 1 Axes>"
      ]
     },
     "metadata": {
      "needs_background": "light"
     },
     "output_type": "display_data"
    }
   ],
   "source": [
    "#visualize the training set \n",
    "from matplotlib.colors import ListedColormap\n",
    "X_set, y_set = X_train, y_train\n",
    "for i, j in enumerate(np.unique(y_set)):\n",
    "    plt.scatter(X_set[y_set == j, 0], X_set[y_set == j, 1],\n",
    "                c = ListedColormap(('red', 'green'))(i), label = j,marker='.')\n",
    "plt.title('Training set')\n",
    "\n",
    "plt.show()"
   ]
  },
  {
   "cell_type": "markdown",
   "metadata": {},
   "source": [
    "### 3) Which Classifier would be more appropriate?"
   ]
  },
  {
   "cell_type": "markdown",
   "metadata": {},
   "source": [
    "Answer:"
   ]
  },
  {
   "cell_type": "markdown",
   "metadata": {},
   "source": [
    "### 4) Train Naive Bayes on the Training Set"
   ]
  },
  {
   "cell_type": "code",
   "execution_count": 353,
   "metadata": {},
   "outputs": [],
   "source": [
    "#Create a Gaussian Classifier Model object\n",
    "gnb = Naive_Bayes_Model()"
   ]
  },
  {
   "cell_type": "code",
   "execution_count": 354,
   "metadata": {},
   "outputs": [],
   "source": [
    "#Train the model using the training sets\n",
    "# X_train = Features for Training = train_features\n",
    "# y_train = Targets  for training = train_targets\n",
    "# Using the \"fit\" function created from scratch \n",
    "# from Naive_Bayes_Model() object\n",
    "\n",
    "gnb.fit(X_train,y_train)"
   ]
  },
  {
   "cell_type": "markdown",
   "metadata": {},
   "source": [
    "### 5) Testing the Naive Bayes Classifier"
   ]
  },
  {
   "cell_type": "code",
   "execution_count": 355,
   "metadata": {},
   "outputs": [],
   "source": [
    "# Predict the response for test dataset\n",
    "# Using the \"predict\" function created from scratch \n",
    "# from Naive_Bayes_Model() object\n",
    "\n",
    "y_pred = gnb.predict(X_test)\n"
   ]
  },
  {
   "cell_type": "code",
   "execution_count": 356,
   "metadata": {},
   "outputs": [
    {
     "name": "stdout",
     "output_type": "stream",
     "text": [
      "[[85 14]\n",
      " [27 28]]\n",
      "Predicted    0   1  All\n",
      "True                   \n",
      "0           85  14   99\n",
      "1           27  28   55\n",
      "All        112  42  154\n",
      "Accuracy: 0.7337662337662337\n",
      "Confusion Matrix: \n",
      " [[85 14]\n",
      " [27 28]]\n"
     ]
    }
   ],
   "source": [
    "# Constructing Confusion Matrix from scratch\n",
    "# True Positive:  \n",
    "true_pos = len([i for i in range(0,y_test.shape[0]) if y_test[i]==0 and y_pred[i]==0])\n",
    "\n",
    "# True Negative: \n",
    "true_neg = len([i for i in range(0,y_test.shape[0]) if y_test[i]==0 and y_pred[i]==1])\n",
    "\n",
    "# False Positive:  \n",
    "false_pos = len([i for i in range(0,y_test.shape[0]) if y_test[i]==1 and y_pred[i]==0])\n",
    "\n",
    "# False Negative:\n",
    "false_neg = len([i for i in range(0,y_test.shape[0]) if y_test[i]==1 and y_pred[i]==1])\n",
    "\n",
    "# Confusion Matrix\n",
    "conf_matrix = np.array([[true_pos,true_neg],[false_pos,false_neg]])\n",
    "\n",
    "print(conf_matrix)\n",
    "\n",
    "# Confusion Matrix made by Pandas\n",
    "print(pd.crosstab(y_test, y_pred, rownames=['True'], colnames=['Predicted'], margins=True))\n",
    "\n",
    "# Confusin Matrix made by Scikit-learn and Accuracy Score\n",
    "from sklearn import metrics\n",
    "from sklearn.metrics import confusion_matrix\n",
    "\n",
    "print(\"Accuracy:\",metrics.accuracy_score(y_test, y_pred))\n",
    "print(\"Confusion Matrix: \\n\",confusion_matrix(y_test,y_pred))"
   ]
  },
  {
   "cell_type": "markdown",
   "metadata": {},
   "source": [
    "### 6) What about using the Gaussian Naive Bayes Classifier from Scikit-Learn?"
   ]
  },
  {
   "cell_type": "code",
   "execution_count": 361,
   "metadata": {},
   "outputs": [
    {
     "name": "stdout",
     "output_type": "stream",
     "text": [
      "Accuracy: 0.7337662337662337\n",
      "Confusion Matrix: \n",
      " [[85 14]\n",
      " [27 28]]\n",
      "              precision    recall  f1-score   support\n",
      "\n",
      "           0       0.76      0.86      0.81        99\n",
      "           1       0.67      0.51      0.58        55\n",
      "\n",
      "    accuracy                           0.73       154\n",
      "   macro avg       0.71      0.68      0.69       154\n",
      "weighted avg       0.73      0.73      0.72       154\n",
      "\n",
      "\n",
      "Question: So, how do they both compare? \n",
      "Answer: Yup, they both arrive at the same accuracy of 0.7337662337662337\n"
     ]
    }
   ],
   "source": [
    "#Import Gaussian Naive Bayes model\n",
    "from sklearn.naive_bayes import GaussianNB\n",
    "\n",
    "#Create a Gaussian Classifier\n",
    "gnb2 = GaussianNB()\n",
    "\n",
    "#Train the model using the training sets\n",
    "# X_train = Features for Training = train_features\n",
    "# y_train = Targets  for training = train_targets\n",
    "\n",
    "gnb2.fit(X_train, y_train)\n",
    "\n",
    "#Predict the response for test dataset\n",
    "y_pred2 = gnb2.predict(X_test)\n",
    "\n",
    "# Model Accuracy, how often is the classifier correct?\n",
    "print(\"Accuracy:\",metrics.accuracy_score(y_test, y_pred2))\n",
    "print(\"Confusion Matrix: \\n\",confusion_matrix(y_test,y_pred2))\n",
    "\n",
    "pd.crosstab(y_test, y_pred2, rownames=['True'], colnames=['Predicted'], margins=True)\n",
    "\n",
    "from sklearn.metrics import classification_report\n",
    "print(classification_report(y_test,y_pred2))\n",
    "\n",
    "# How do they both compare?\n",
    "print(\"\\nQuestion: So, how do they both compare? \")\n",
    "accuracy1 = metrics.accuracy_score(y_test, y_pred)\n",
    "accuracy2 = metrics.accuracy_score(y_test, y_pred2)\n",
    "if (accuracy1 == accuracy2):\n",
    "    print(\"Answer: Yup, they both arrive at the same accuracy of {}\".format(accuracy1))"
   ]
  },
  {
   "cell_type": "markdown",
   "metadata": {},
   "source": [
    "### 7) Train KNN on the Training Set"
   ]
  },
  {
   "cell_type": "code",
   "execution_count": null,
   "metadata": {},
   "outputs": [],
   "source": [
    "# TO DO"
   ]
  },
  {
   "cell_type": "markdown",
   "metadata": {},
   "source": [
    "### 8) Testing the KNN Classifier"
   ]
  },
  {
   "cell_type": "code",
   "execution_count": null,
   "metadata": {},
   "outputs": [],
   "source": [
    "# TO DO"
   ]
  },
  {
   "cell_type": "markdown",
   "metadata": {},
   "source": [
    "### 9) What about using the KNN Classifier from Scikit-Learn?"
   ]
  },
  {
   "cell_type": "code",
   "execution_count": 367,
   "metadata": {},
   "outputs": [
    {
     "name": "stdout",
     "output_type": "stream",
     "text": [
      "n_neighbors = 2\n",
      "train R^2 score =  0.646\n",
      "test  R^2 score =  -0.2515\n",
      "n_neighbors = 3\n",
      "train R^2 score =  0.5559\n",
      "test  R^2 score =  -0.0308\n",
      "n_neighbors = 4\n",
      "train R^2 score =  0.4838\n",
      "test  R^2 score =  0.0419\n",
      "n_neighbors = 5\n",
      "train R^2 score =  0.424\n",
      "test  R^2 score =  0.0916\n",
      "n_neighbors = 6\n",
      "train R^2 score =  0.391\n",
      "test  R^2 score =  0.1609\n",
      "n_neighbors = 7\n",
      "train R^2 score =  0.3834\n",
      "test  R^2 score =  0.1781\n",
      "n_neighbors = 8\n",
      "train R^2 score =  0.3557\n",
      "test  R^2 score =  0.2103\n",
      "n_neighbors = 9\n",
      "train R^2 score =  0.3615\n",
      "test  R^2 score =  0.198\n",
      "n_neighbors = 10\n",
      "train R^2 score =  0.3565\n",
      "test  R^2 score =  0.2047\n",
      "n_neighbors = 11\n",
      "train R^2 score =  0.3574\n",
      "test  R^2 score =  0.2153\n",
      "\n",
      "Accuracy: 0.7402597402597403\n",
      "\n",
      "Confusion Matrix: \n",
      " [[84 15]\n",
      " [25 30]]\n",
      "              precision    recall  f1-score   support\n",
      "\n",
      "           0       0.77      0.85      0.81        99\n",
      "           1       0.67      0.55      0.60        55\n",
      "\n",
      "    accuracy                           0.74       154\n",
      "   macro avg       0.72      0.70      0.70       154\n",
      "weighted avg       0.73      0.74      0.73       154\n",
      "\n"
     ]
    }
   ],
   "source": [
    "from sklearn.neighbors import KNeighborsRegressor\n",
    "\n",
    "for n in range(2,12):\n",
    "    # Create and fit the KNN model\n",
    "    knn = KNeighborsRegressor(n_neighbors = n)\n",
    "    \n",
    "    # Fit the model to the training data\n",
    "    # scaled_train_features = scale(X_train)\n",
    "    # y_train = Targets  for training = train_targets\n",
    "    knn.fit(X_train, y_train)\n",
    "    \n",
    "    # Print number of neighbors and the score to find the best value of n\n",
    "    print(\"n_neighbors =\", n)\n",
    "    \n",
    "    # scaled_train_features = scale(X_train) vs train_targets (y_train)\n",
    "    # scaled_test_features  = scale(X_test)  vs test_targets (y_test)\n",
    "    \n",
    "    print('train R^2 score = ', round(knn.score(X_train, y_train),4))\n",
    "    print('test  R^2 score = ', round(knn.score(X_test, y_test),4))\n",
    "\n",
    "# Create the model with the best-performing n_neighbors of 7\n",
    "knn = KNeighborsRegressor(n_neighbors=7)\n",
    "\n",
    "# Fit the model\n",
    "# scaled_train_features = scale(X_train)\n",
    "# y_train = Targets  for training = train_targets\n",
    "knn.fit(X_train, y_train)\n",
    "\n",
    "# Get predictions for train and test sets\n",
    "y_pred_knn = knn.predict(X_test)\n",
    "\n",
    "print(\"\\nAccuracy:\",metrics.accuracy_score(y_test, y_pred_knn.round()))\n",
    "print(\"\\nConfusion Matrix: \\n\",confusion_matrix(y_test,y_pred_knn.round()))\n",
    "\n",
    "pd.crosstab(y_test, y_pred_knn.round(), rownames=['True'], colnames=['Predicted'], margins=True)\n",
    "\n",
    "from sklearn.metrics import classification_report\n",
    "print(classification_report(y_test,y_pred_knn.round()))"
   ]
  },
  {
   "cell_type": "markdown",
   "metadata": {},
   "source": [
    "### 10) Compare the results"
   ]
  },
  {
   "cell_type": "markdown",
   "metadata": {},
   "source": [
    "Answer:\n",
    "\n",
    "    a) Does it confirm your reasoning?\n",
    "\n",
    "    b) Why?"
   ]
  },
  {
   "cell_type": "code",
   "execution_count": null,
   "metadata": {},
   "outputs": [],
   "source": []
  }
 ],
 "metadata": {
  "kernelspec": {
   "display_name": "Python 3",
   "language": "python",
   "name": "python3"
  },
  "language_info": {
   "codemirror_mode": {
    "name": "ipython",
    "version": 3
   },
   "file_extension": ".py",
   "mimetype": "text/x-python",
   "name": "python",
   "nbconvert_exporter": "python",
   "pygments_lexer": "ipython3",
   "version": "3.7.3"
  }
 },
 "nbformat": 4,
 "nbformat_minor": 2
}
